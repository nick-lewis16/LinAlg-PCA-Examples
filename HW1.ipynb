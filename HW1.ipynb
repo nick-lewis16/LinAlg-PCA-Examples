{
 "cells": [
  {
   "cell_type": "markdown",
   "metadata": {
    "id": "ZC0WY4N_Tgau"
   },
   "source": [
    "Name: Nicholas Lewis\n",
    "\n",
    "UID: 105320878"
   ]
  },
  {
   "cell_type": "code",
   "execution_count": 1,
   "metadata": {
    "id": "RHECOIT28JbF"
   },
   "outputs": [],
   "source": [
    "import numpy as np\n",
    "import pandas as pd\n",
    "import matplotlib.pyplot as plt"
   ]
  },
  {
   "cell_type": "markdown",
   "metadata": {
    "id": "xI5XjqPBWJrR"
   },
   "source": [
    "# Q1"
   ]
  },
  {
   "cell_type": "markdown",
   "metadata": {
    "id": "ooPChMIICi5s"
   },
   "source": [
    "Suppose you throw a ball straight up into the air with some initial height $x_0$, and initial velocity $v_0$. Of course, gravity $g$ will have an effect on the ball, so there is (negative) acceleration.\n",
    "\n",
    "  Now suppose you measure after 1 second that the ball is at height 17.1 meters, after 2 seconds the ball is at height 22.4 meters, and after 3 seconds the ball is at height 17.9 meters.\n",
    "\n",
    "  Find $x_0$, $v_0$, and $g$.\n",
    "\n",
    "  Hint: Solve the system $Ax = b$ where,\n",
    "    \\begin{align}\n",
    "      A = \\begin{bmatrix}\n",
    "        1 & t_1 & \\frac{t_1^2}{2} \\\\\n",
    "        1 & t_2 & \\frac{t_2^2}{2} \\\\\n",
    "        1 & t_3 & \\frac{t_3^2}{2}\n",
    "      \\end{bmatrix} =\n",
    "      \\begin{bmatrix}\n",
    "        1 & 1 & 0.5 \\\\\n",
    "        1 & 2 & 2 \\\\\n",
    "        1 & 3 & 4.5\n",
    "      \\end{bmatrix}\n",
    "    \\end{align}\n",
    "  and where,\n",
    "    \\begin{align}\n",
    "      b = \\begin{bmatrix}\n",
    "        17.1 \\\\\n",
    "        22.4 \\\\\n",
    "        17.9\n",
    "      \\end{bmatrix}\n",
    "    \\end{align}"
   ]
  },
  {
   "cell_type": "code",
   "execution_count": 2,
   "metadata": {
    "id": "IykLNx5AApvo"
   },
   "outputs": [
    {
     "data": {
      "text/plain": [
       "array([ 2. , 20. , -9.8])"
      ]
     },
     "execution_count": 2,
     "metadata": {},
     "output_type": "execute_result"
    }
   ],
   "source": [
    "A = np.array([[1, 1, 0.5],\n",
    "              [1, 2, 2.0],\n",
    "              [1, 3, 4.5]])\n",
    "b = np.array([17.1, 22.4, 17.9])\n",
    "\n",
    "np.linalg.solve(A, b)"
   ]
  },
  {
   "cell_type": "markdown",
   "metadata": {
    "id": "xseiUDJ8E5LW"
   },
   "source": [
    "- X0 = 2 meters\n",
    "- V0 = 20 meters/ second\n",
    "- g = -9.8 meters/ second^2"
   ]
  },
  {
   "cell_type": "markdown",
   "metadata": {
    "id": "lqOWCiZeQS_4"
   },
   "source": [
    "---"
   ]
  },
  {
   "cell_type": "markdown",
   "metadata": {
    "id": "9G0o1jNoWGqM"
   },
   "source": [
    "# Q2"
   ]
  },
  {
   "cell_type": "markdown",
   "metadata": {
    "id": "k8FFjCdIFjny"
   },
   "source": [
    "Suppose the stock market is modelled as:\n",
    "\n",
    "![finance_market_transitions_small.png](data:image/png;base64,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)"
   ]
  },
  {
   "cell_type": "markdown",
   "metadata": {
    "id": "WuwGVBifKTqO"
   },
   "source": [
    "(a) If today we are in a Bear market, what is the probability in 3 years we'll be in a Bull Market, or a Bear Market, or a Stagnant Market?"
   ]
  },
  {
   "cell_type": "code",
   "execution_count": 3,
   "metadata": {
    "id": "P5LaI9wX8jEz"
   },
   "outputs": [
    {
     "name": "stdout",
     "output_type": "stream",
     "text": [
      "result after 3 years: [0.3575  0.56825 0.07425]\n"
     ]
    }
   ],
   "source": [
    "stock_market = np.array([[0.90, .075, .025],\n",
    "                         [0.15, 0.80, 0.05],\n",
    "                         [0.25, 0.25, 0.50]])\n",
    "\n",
    "initial = np.array([0, 1, 0])\n",
    "\n",
    "result = initial @ stock_market # 1 yr\n",
    "result = result @ stock_market  # 2 yr\n",
    "result = result @ stock_market  # 3 yr\n",
    "\n",
    "print(\"result after 3 years:\", result)"
   ]
  },
  {
   "cell_type": "markdown",
   "metadata": {
    "id": "nki2YlR-JOL1"
   },
   "source": [
    "Probability of being in a...\n",
    "- Bull market: .3575 (35.75%)\n",
    "- Bear market: .56825 (56.83%)\n",
    "- Stagnant: .07425 (7.43%)"
   ]
  },
  {
   "cell_type": "markdown",
   "metadata": {
    "id": "HdFl6mR7Kula"
   },
   "source": [
    "(b) After a *long time*, what is the probability that we'll be in a Bull Market, or a Bear Market, or a Stagnant Market? (It won't matter, but you can assume we are in a Bear market today)"
   ]
  },
  {
   "cell_type": "code",
   "execution_count": 4,
   "metadata": {
    "id": "c18Fo3k9LDQ9"
   },
   "outputs": [
    {
     "name": "stdout",
     "output_type": "stream",
     "text": [
      "result after 4 years: [0.42555  0.499975 0.074475]\n",
      "result after 5 years: [0.47661  0.450515 0.072875]\n",
      "result after 6 years: [0.514745  0.4143765 0.0708785]\n",
      "result after 7 years: [0.5431466 0.3878267 0.0690267]\n",
      "result after 8 years: [0.56426262 0.36825403 0.06748335]\n",
      "result after 9 years: [0.5799453  0.35379376 0.06626094]\n",
      "result after 10 years: [0.59158507 0.34309614 0.06531879]\n",
      "result after 11 years: [0.60022068 0.33517549 0.06460383]\n",
      "result after 12 years: [0.60662589 0.3293079  0.06406621]\n",
      "result after 13 years: [0.61137604 0.32495981 0.06366415]\n",
      "result after 14 years: [0.61489845 0.32173709 0.06336446]\n",
      "result after 15 years: [0.61751028 0.31934817 0.06314155]\n",
      "result after 16 years: [0.61944687 0.3175772  0.06297594]\n",
      "result after 17 years: [0.62088274 0.31626426 0.062853  ]\n",
      "result after 18 years: [0.62194736 0.31529086 0.06276178]\n",
      "result after 19 years: [0.6227367  0.31456919 0.06269412]\n",
      "result after 20 years: [0.62332193 0.31403413 0.06264394]\n",
      "result after 21 years: [0.62375584 0.31363743 0.06260672]\n",
      "result after 22 years: [0.62407756 0.31334332 0.06257913]\n",
      "result after 23 years: [0.62431608 0.31312525 0.06255867]\n",
      "result after 24 years: [0.62449293 0.31296357 0.0625435 ]\n",
      "result after 25 years: [0.62462404 0.3128437  0.06253225]\n",
      "result after 26 years: [0.62472126 0.31275483 0.06252391]\n",
      "result after 27 years: [0.62479334 0.31268894 0.06251773]\n",
      "result after 28 years: [0.62484677 0.31264008 0.06251314]\n",
      "result after 29 years: [0.6248864  0.31260386 0.06250975]\n",
      "result after 30 years: [0.62491577 0.312577   0.06250723]\n",
      "result after 31 years: [0.62493755 0.31255709 0.06250536]\n",
      "result after 32 years: [0.6249537  0.31254233 0.06250397]\n",
      "result after 33 years: [0.62496567 0.31253138 0.06250294]\n",
      "result after 34 years: [0.62497455 0.31252327 0.06250218]\n",
      "result after 35 years: [0.62498113 0.31251725 0.06250162]\n",
      "result after 36 years: [0.62498601 0.31251279 0.0625012 ]\n",
      "result after 37 years: [0.62498963 0.31250948 0.06250089]\n",
      "result after 38 years: [0.62499231 0.31250703 0.06250066]\n",
      "result after 39 years: [0.6249943  0.31250521 0.06250049]\n",
      "result after 40 years: [0.62499577 0.31250387 0.06250036]\n",
      "result after 41 years: [0.62499687 0.31250287 0.06250027]\n",
      "result after 42 years: [0.62499768 0.31250212 0.0625002 ]\n",
      "result after 43 years: [0.62499828 0.31250158 0.06250015]\n",
      "result after 44 years: [0.62499872 0.31250117 0.06250011]\n",
      "result after 45 years: [0.62499905 0.31250087 0.06250008]\n",
      "result after 46 years: [0.6249993  0.31250064 0.06250006]\n",
      "result after 47 years: [0.62499948 0.31250048 0.06250004]\n",
      "result after 48 years: [0.62499961 0.31250035 0.06250003]\n",
      "result after 49 years: [0.62499971 0.31250026 0.06250002]\n",
      "result after 50 years: [0.62499979 0.31250019 0.06250002]\n",
      "result after 51 years: [0.62499984 0.31250014 0.06250001]\n",
      "result after 52 years: [0.62499988 0.31250011 0.06250001]\n",
      "result after 53 years: [0.62499991 0.31250008 0.06250001]\n",
      "result after 54 years: [0.62499994 0.31250006 0.06250001]\n",
      "result after 55 years: [0.62499995 0.31250004 0.0625    ]\n",
      "result after 56 years: [0.62499996 0.31250003 0.0625    ]\n",
      "result after 57 years: [0.62499997 0.31250002 0.0625    ]\n",
      "result after 58 years: [0.62499998 0.31250002 0.0625    ]\n",
      "result after 59 years: [0.62499999 0.31250001 0.0625    ]\n",
      "result after 60 years: [0.62499999 0.31250001 0.0625    ]\n",
      "result after 61 years: [0.62499999 0.31250001 0.0625    ]\n",
      "result after 62 years: [0.62499999 0.31250001 0.0625    ]\n",
      "result after 63 years: [0.625  0.3125 0.0625]\n",
      "result after 64 years: [0.625  0.3125 0.0625]\n",
      "result after 65 years: [0.625  0.3125 0.0625]\n",
      "result after 66 years: [0.625  0.3125 0.0625]\n",
      "result after 67 years: [0.625  0.3125 0.0625]\n",
      "result after 68 years: [0.625  0.3125 0.0625]\n",
      "result after 69 years: [0.625  0.3125 0.0625]\n"
     ]
    }
   ],
   "source": [
    "for year in range(4, 70):\n",
    "    result = result @ stock_market\n",
    "    print(f\"result after {year} years:\", result)"
   ]
  },
  {
   "cell_type": "markdown",
   "metadata": {
    "id": "8AKJ3ZfZQZe-"
   },
   "source": [
    "In a very long time, the probabilities of the state of the stock market are:\n",
    "- Bull Market: .625 (62.5%)\n",
    "- Bear Market: .3125 (31.25%)\n",
    "- Stagnant: .0625 (6.25%)"
   ]
  },
  {
   "cell_type": "markdown",
   "metadata": {
    "id": "l1fJK6xXWOu9"
   },
   "source": [
    "# Q3"
   ]
  },
  {
   "cell_type": "markdown",
   "metadata": {
    "id": "KJdwIsHXJ07J"
   },
   "source": [
    "Please download height_dataset.csv."
   ]
  },
  {
   "cell_type": "markdown",
   "metadata": {
    "id": "r-1egiIKOmKV"
   },
   "source": [
    "(a) Import the .csv file as a dataframe and display the data."
   ]
  },
  {
   "cell_type": "code",
   "execution_count": 5,
   "metadata": {
    "id": "XnxbY_n7880L"
   },
   "outputs": [
    {
     "data": {
      "text/html": [
       "<div>\n",
       "<style scoped>\n",
       "    .dataframe tbody tr th:only-of-type {\n",
       "        vertical-align: middle;\n",
       "    }\n",
       "\n",
       "    .dataframe tbody tr th {\n",
       "        vertical-align: top;\n",
       "    }\n",
       "\n",
       "    .dataframe thead th {\n",
       "        text-align: right;\n",
       "    }\n",
       "</style>\n",
       "<table border=\"1\" class=\"dataframe\">\n",
       "  <thead>\n",
       "    <tr style=\"text-align: right;\">\n",
       "      <th></th>\n",
       "      <th>Height(Inches)</th>\n",
       "      <th>Height(cm)</th>\n",
       "      <th>Height(mm)</th>\n",
       "      <th>Height(feet)</th>\n",
       "    </tr>\n",
       "  </thead>\n",
       "  <tbody>\n",
       "    <tr>\n",
       "      <th>0</th>\n",
       "      <td>65.78331</td>\n",
       "      <td>167.089607</td>\n",
       "      <td>1670.896074</td>\n",
       "      <td>5.481921</td>\n",
       "    </tr>\n",
       "    <tr>\n",
       "      <th>1</th>\n",
       "      <td>71.51521</td>\n",
       "      <td>181.648633</td>\n",
       "      <td>1816.486334</td>\n",
       "      <td>5.959577</td>\n",
       "    </tr>\n",
       "    <tr>\n",
       "      <th>2</th>\n",
       "      <td>69.39874</td>\n",
       "      <td>176.272800</td>\n",
       "      <td>1762.727996</td>\n",
       "      <td>5.783205</td>\n",
       "    </tr>\n",
       "    <tr>\n",
       "      <th>3</th>\n",
       "      <td>68.21660</td>\n",
       "      <td>173.270164</td>\n",
       "      <td>1732.701640</td>\n",
       "      <td>5.684694</td>\n",
       "    </tr>\n",
       "    <tr>\n",
       "      <th>4</th>\n",
       "      <td>67.78781</td>\n",
       "      <td>172.181037</td>\n",
       "      <td>1721.810374</td>\n",
       "      <td>5.648962</td>\n",
       "    </tr>\n",
       "    <tr>\n",
       "      <th>5</th>\n",
       "      <td>68.69784</td>\n",
       "      <td>174.492514</td>\n",
       "      <td>1744.925136</td>\n",
       "      <td>5.724797</td>\n",
       "    </tr>\n",
       "    <tr>\n",
       "      <th>6</th>\n",
       "      <td>69.80204</td>\n",
       "      <td>177.297182</td>\n",
       "      <td>1772.971816</td>\n",
       "      <td>5.816813</td>\n",
       "    </tr>\n",
       "    <tr>\n",
       "      <th>7</th>\n",
       "      <td>70.01472</td>\n",
       "      <td>177.837389</td>\n",
       "      <td>1778.373888</td>\n",
       "      <td>5.834537</td>\n",
       "    </tr>\n",
       "    <tr>\n",
       "      <th>8</th>\n",
       "      <td>67.90265</td>\n",
       "      <td>172.472731</td>\n",
       "      <td>1724.727310</td>\n",
       "      <td>5.658532</td>\n",
       "    </tr>\n",
       "    <tr>\n",
       "      <th>9</th>\n",
       "      <td>66.78236</td>\n",
       "      <td>169.627194</td>\n",
       "      <td>1696.271944</td>\n",
       "      <td>5.565174</td>\n",
       "    </tr>\n",
       "    <tr>\n",
       "      <th>10</th>\n",
       "      <td>66.48769</td>\n",
       "      <td>168.878733</td>\n",
       "      <td>1688.787326</td>\n",
       "      <td>5.540619</td>\n",
       "    </tr>\n",
       "    <tr>\n",
       "      <th>11</th>\n",
       "      <td>67.62333</td>\n",
       "      <td>171.763258</td>\n",
       "      <td>1717.632582</td>\n",
       "      <td>5.635255</td>\n",
       "    </tr>\n",
       "    <tr>\n",
       "      <th>12</th>\n",
       "      <td>68.30248</td>\n",
       "      <td>173.488299</td>\n",
       "      <td>1734.882992</td>\n",
       "      <td>5.691851</td>\n",
       "    </tr>\n",
       "    <tr>\n",
       "      <th>13</th>\n",
       "      <td>67.11656</td>\n",
       "      <td>170.476062</td>\n",
       "      <td>1704.760624</td>\n",
       "      <td>5.593024</td>\n",
       "    </tr>\n",
       "    <tr>\n",
       "      <th>14</th>\n",
       "      <td>68.27967</td>\n",
       "      <td>173.430362</td>\n",
       "      <td>1734.303618</td>\n",
       "      <td>5.689950</td>\n",
       "    </tr>\n",
       "    <tr>\n",
       "      <th>15</th>\n",
       "      <td>71.09160</td>\n",
       "      <td>180.572664</td>\n",
       "      <td>1805.726640</td>\n",
       "      <td>5.924276</td>\n",
       "    </tr>\n",
       "    <tr>\n",
       "      <th>16</th>\n",
       "      <td>66.46100</td>\n",
       "      <td>168.810940</td>\n",
       "      <td>1688.109400</td>\n",
       "      <td>5.538395</td>\n",
       "    </tr>\n",
       "    <tr>\n",
       "      <th>17</th>\n",
       "      <td>68.64927</td>\n",
       "      <td>174.369146</td>\n",
       "      <td>1743.691458</td>\n",
       "      <td>5.720750</td>\n",
       "    </tr>\n",
       "    <tr>\n",
       "      <th>18</th>\n",
       "      <td>71.23033</td>\n",
       "      <td>180.925038</td>\n",
       "      <td>1809.250382</td>\n",
       "      <td>5.935837</td>\n",
       "    </tr>\n",
       "    <tr>\n",
       "      <th>19</th>\n",
       "      <td>67.13118</td>\n",
       "      <td>170.513197</td>\n",
       "      <td>1705.131972</td>\n",
       "      <td>5.594243</td>\n",
       "    </tr>\n",
       "    <tr>\n",
       "      <th>20</th>\n",
       "      <td>67.83379</td>\n",
       "      <td>172.297827</td>\n",
       "      <td>1722.978266</td>\n",
       "      <td>5.652793</td>\n",
       "    </tr>\n",
       "    <tr>\n",
       "      <th>21</th>\n",
       "      <td>68.87881</td>\n",
       "      <td>174.952177</td>\n",
       "      <td>1749.521774</td>\n",
       "      <td>5.739878</td>\n",
       "    </tr>\n",
       "    <tr>\n",
       "      <th>22</th>\n",
       "      <td>63.48115</td>\n",
       "      <td>161.242121</td>\n",
       "      <td>1612.421210</td>\n",
       "      <td>5.290075</td>\n",
       "    </tr>\n",
       "    <tr>\n",
       "      <th>23</th>\n",
       "      <td>68.42187</td>\n",
       "      <td>173.791550</td>\n",
       "      <td>1737.915498</td>\n",
       "      <td>5.701800</td>\n",
       "    </tr>\n",
       "    <tr>\n",
       "      <th>24</th>\n",
       "      <td>67.62804</td>\n",
       "      <td>171.775222</td>\n",
       "      <td>1717.752216</td>\n",
       "      <td>5.635647</td>\n",
       "    </tr>\n",
       "    <tr>\n",
       "      <th>25</th>\n",
       "      <td>67.20864</td>\n",
       "      <td>170.709946</td>\n",
       "      <td>1707.099456</td>\n",
       "      <td>5.600698</td>\n",
       "    </tr>\n",
       "    <tr>\n",
       "      <th>26</th>\n",
       "      <td>70.84235</td>\n",
       "      <td>179.939569</td>\n",
       "      <td>1799.395690</td>\n",
       "      <td>5.903506</td>\n",
       "    </tr>\n",
       "    <tr>\n",
       "      <th>27</th>\n",
       "      <td>67.49434</td>\n",
       "      <td>171.435624</td>\n",
       "      <td>1714.356236</td>\n",
       "      <td>5.624506</td>\n",
       "    </tr>\n",
       "    <tr>\n",
       "      <th>28</th>\n",
       "      <td>66.53401</td>\n",
       "      <td>168.996385</td>\n",
       "      <td>1689.963854</td>\n",
       "      <td>5.544479</td>\n",
       "    </tr>\n",
       "    <tr>\n",
       "      <th>29</th>\n",
       "      <td>65.44098</td>\n",
       "      <td>166.220089</td>\n",
       "      <td>1662.200892</td>\n",
       "      <td>5.453393</td>\n",
       "    </tr>\n",
       "    <tr>\n",
       "      <th>30</th>\n",
       "      <td>69.52330</td>\n",
       "      <td>176.589182</td>\n",
       "      <td>1765.891820</td>\n",
       "      <td>5.793585</td>\n",
       "    </tr>\n",
       "    <tr>\n",
       "      <th>31</th>\n",
       "      <td>65.81320</td>\n",
       "      <td>167.165528</td>\n",
       "      <td>1671.655280</td>\n",
       "      <td>5.484411</td>\n",
       "    </tr>\n",
       "    <tr>\n",
       "      <th>32</th>\n",
       "      <td>67.81630</td>\n",
       "      <td>172.253402</td>\n",
       "      <td>1722.534020</td>\n",
       "      <td>5.651336</td>\n",
       "    </tr>\n",
       "    <tr>\n",
       "      <th>33</th>\n",
       "      <td>70.59505</td>\n",
       "      <td>179.311427</td>\n",
       "      <td>1793.114270</td>\n",
       "      <td>5.882897</td>\n",
       "    </tr>\n",
       "    <tr>\n",
       "      <th>34</th>\n",
       "      <td>71.80484</td>\n",
       "      <td>182.384294</td>\n",
       "      <td>1823.842936</td>\n",
       "      <td>5.983713</td>\n",
       "    </tr>\n",
       "    <tr>\n",
       "      <th>35</th>\n",
       "      <td>69.20613</td>\n",
       "      <td>175.783570</td>\n",
       "      <td>1757.835702</td>\n",
       "      <td>5.767154</td>\n",
       "    </tr>\n",
       "    <tr>\n",
       "      <th>36</th>\n",
       "      <td>66.80368</td>\n",
       "      <td>169.681347</td>\n",
       "      <td>1696.813472</td>\n",
       "      <td>5.566951</td>\n",
       "    </tr>\n",
       "    <tr>\n",
       "      <th>37</th>\n",
       "      <td>67.65893</td>\n",
       "      <td>171.853682</td>\n",
       "      <td>1718.536822</td>\n",
       "      <td>5.638222</td>\n",
       "    </tr>\n",
       "    <tr>\n",
       "      <th>38</th>\n",
       "      <td>67.80701</td>\n",
       "      <td>172.229805</td>\n",
       "      <td>1722.298054</td>\n",
       "      <td>5.650562</td>\n",
       "    </tr>\n",
       "    <tr>\n",
       "      <th>39</th>\n",
       "      <td>64.04535</td>\n",
       "      <td>162.675189</td>\n",
       "      <td>1626.751890</td>\n",
       "      <td>5.337091</td>\n",
       "    </tr>\n",
       "    <tr>\n",
       "      <th>40</th>\n",
       "      <td>68.57463</td>\n",
       "      <td>174.179560</td>\n",
       "      <td>1741.795602</td>\n",
       "      <td>5.714530</td>\n",
       "    </tr>\n",
       "    <tr>\n",
       "      <th>41</th>\n",
       "      <td>65.18357</td>\n",
       "      <td>165.566268</td>\n",
       "      <td>1655.662678</td>\n",
       "      <td>5.431942</td>\n",
       "    </tr>\n",
       "    <tr>\n",
       "      <th>42</th>\n",
       "      <td>69.65814</td>\n",
       "      <td>176.931676</td>\n",
       "      <td>1769.316756</td>\n",
       "      <td>5.804822</td>\n",
       "    </tr>\n",
       "    <tr>\n",
       "      <th>43</th>\n",
       "      <td>67.96731</td>\n",
       "      <td>172.636967</td>\n",
       "      <td>1726.369674</td>\n",
       "      <td>5.663920</td>\n",
       "    </tr>\n",
       "    <tr>\n",
       "      <th>44</th>\n",
       "      <td>65.98088</td>\n",
       "      <td>167.591435</td>\n",
       "      <td>1675.914352</td>\n",
       "      <td>5.498385</td>\n",
       "    </tr>\n",
       "    <tr>\n",
       "      <th>45</th>\n",
       "      <td>68.67249</td>\n",
       "      <td>174.428125</td>\n",
       "      <td>1744.281246</td>\n",
       "      <td>5.722685</td>\n",
       "    </tr>\n",
       "    <tr>\n",
       "      <th>46</th>\n",
       "      <td>66.88088</td>\n",
       "      <td>169.877435</td>\n",
       "      <td>1698.774352</td>\n",
       "      <td>5.573384</td>\n",
       "    </tr>\n",
       "    <tr>\n",
       "      <th>47</th>\n",
       "      <td>67.69868</td>\n",
       "      <td>171.954647</td>\n",
       "      <td>1719.546472</td>\n",
       "      <td>5.641534</td>\n",
       "    </tr>\n",
       "    <tr>\n",
       "      <th>48</th>\n",
       "      <td>69.82117</td>\n",
       "      <td>177.345772</td>\n",
       "      <td>1773.457718</td>\n",
       "      <td>5.818408</td>\n",
       "    </tr>\n",
       "    <tr>\n",
       "      <th>49</th>\n",
       "      <td>69.08817</td>\n",
       "      <td>175.483952</td>\n",
       "      <td>1754.839518</td>\n",
       "      <td>5.757324</td>\n",
       "    </tr>\n",
       "  </tbody>\n",
       "</table>\n",
       "</div>"
      ],
      "text/plain": [
       "    Height(Inches)  Height(cm)   Height(mm)  Height(feet)\n",
       "0         65.78331  167.089607  1670.896074      5.481921\n",
       "1         71.51521  181.648633  1816.486334      5.959577\n",
       "2         69.39874  176.272800  1762.727996      5.783205\n",
       "3         68.21660  173.270164  1732.701640      5.684694\n",
       "4         67.78781  172.181037  1721.810374      5.648962\n",
       "5         68.69784  174.492514  1744.925136      5.724797\n",
       "6         69.80204  177.297182  1772.971816      5.816813\n",
       "7         70.01472  177.837389  1778.373888      5.834537\n",
       "8         67.90265  172.472731  1724.727310      5.658532\n",
       "9         66.78236  169.627194  1696.271944      5.565174\n",
       "10        66.48769  168.878733  1688.787326      5.540619\n",
       "11        67.62333  171.763258  1717.632582      5.635255\n",
       "12        68.30248  173.488299  1734.882992      5.691851\n",
       "13        67.11656  170.476062  1704.760624      5.593024\n",
       "14        68.27967  173.430362  1734.303618      5.689950\n",
       "15        71.09160  180.572664  1805.726640      5.924276\n",
       "16        66.46100  168.810940  1688.109400      5.538395\n",
       "17        68.64927  174.369146  1743.691458      5.720750\n",
       "18        71.23033  180.925038  1809.250382      5.935837\n",
       "19        67.13118  170.513197  1705.131972      5.594243\n",
       "20        67.83379  172.297827  1722.978266      5.652793\n",
       "21        68.87881  174.952177  1749.521774      5.739878\n",
       "22        63.48115  161.242121  1612.421210      5.290075\n",
       "23        68.42187  173.791550  1737.915498      5.701800\n",
       "24        67.62804  171.775222  1717.752216      5.635647\n",
       "25        67.20864  170.709946  1707.099456      5.600698\n",
       "26        70.84235  179.939569  1799.395690      5.903506\n",
       "27        67.49434  171.435624  1714.356236      5.624506\n",
       "28        66.53401  168.996385  1689.963854      5.544479\n",
       "29        65.44098  166.220089  1662.200892      5.453393\n",
       "30        69.52330  176.589182  1765.891820      5.793585\n",
       "31        65.81320  167.165528  1671.655280      5.484411\n",
       "32        67.81630  172.253402  1722.534020      5.651336\n",
       "33        70.59505  179.311427  1793.114270      5.882897\n",
       "34        71.80484  182.384294  1823.842936      5.983713\n",
       "35        69.20613  175.783570  1757.835702      5.767154\n",
       "36        66.80368  169.681347  1696.813472      5.566951\n",
       "37        67.65893  171.853682  1718.536822      5.638222\n",
       "38        67.80701  172.229805  1722.298054      5.650562\n",
       "39        64.04535  162.675189  1626.751890      5.337091\n",
       "40        68.57463  174.179560  1741.795602      5.714530\n",
       "41        65.18357  165.566268  1655.662678      5.431942\n",
       "42        69.65814  176.931676  1769.316756      5.804822\n",
       "43        67.96731  172.636967  1726.369674      5.663920\n",
       "44        65.98088  167.591435  1675.914352      5.498385\n",
       "45        68.67249  174.428125  1744.281246      5.722685\n",
       "46        66.88088  169.877435  1698.774352      5.573384\n",
       "47        67.69868  171.954647  1719.546472      5.641534\n",
       "48        69.82117  177.345772  1773.457718      5.818408\n",
       "49        69.08817  175.483952  1754.839518      5.757324"
      ]
     },
     "execution_count": 5,
     "metadata": {},
     "output_type": "execute_result"
    }
   ],
   "source": [
    "df = pd.read_csv('height_dataset.csv')\n",
    "df"
   ]
  },
  {
   "cell_type": "markdown",
   "metadata": {
    "id": "cc-AbdjdOrTi"
   },
   "source": [
    "(b) Convert the dataframe to a matrix. (Use .to_numpy(), and make sure the resulting data matrix has shape (50, 4))."
   ]
  },
  {
   "cell_type": "code",
   "execution_count": 7,
   "metadata": {
    "id": "BWrahCQZNRNI"
   },
   "outputs": [
    {
     "data": {
      "text/plain": [
       "(50, 4)"
      ]
     },
     "execution_count": 7,
     "metadata": {},
     "output_type": "execute_result"
    }
   ],
   "source": [
    "heights = df.to_numpy()\n",
    "heights.shape\n",
    "column_mean = np.mean(heights, axis = 0, keepdims = True)\n",
    "heights = heights - column_mean\n",
    "U, S, VT = np.linalg.svd(heights, full_matrices = False)"
   ]
  },
  {
   "cell_type": "code",
   "execution_count": 8,
   "metadata": {
    "id": "_PSu6sKoNzoe"
   },
   "outputs": [],
   "source": [
    "column_mean = np.mean(heights, axis = 0, keepdims = True)\n",
    "heights = heights - column_mean\n",
    "U, S, VT = np.linalg.svd(heights, full_matrices = False)"
   ]
  },
  {
   "cell_type": "markdown",
   "metadata": {
    "id": "8Y5_xJw8PKPg"
   },
   "source": [
    "(d) Compute the SVD, i.e. do U, S, VT = np.linalg.svd( ... )"
   ]
  },
  {
   "cell_type": "code",
   "execution_count": 9,
   "metadata": {
    "id": "cVwlK6ntNTAD"
   },
   "outputs": [],
   "source": []
  },
  {
   "cell_type": "markdown",
   "metadata": {
    "id": "rWd402h8PRZ5"
   },
   "source": [
    "Display the singular values, S."
   ]
  },
  {
   "cell_type": "code",
   "execution_count": 10,
   "metadata": {
    "id": "gEHGR7SQPenn"
   },
   "outputs": [
    {
     "data": {
      "text/plain": [
       "Text(0.5, 1.0, 'Plot of singular values')"
      ]
     },
     "execution_count": 10,
     "metadata": {},
     "output_type": "execute_result"
    },
    {
     "data": {
      "image/png": "[encoded data removed]",
      "text/plain": [
       "<Figure size 432x288 with 1 Axes>"
      ]
     },
     "metadata": {
      "needs_background": "light"
     },
     "output_type": "display_data"
    }
   ],
   "source": [
    "plt.scatter(np.arange(0, len(S)), S)\n",
    "plt.title(\"Plot of singular values\")"
   ]
  },
  {
   "cell_type": "markdown",
   "metadata": {
    "id": "fNRapDjmPU-P"
   },
   "source": [
    "(f) Display the matrix VT. Note that the rows of VT are the principle components."
   ]
  },
  {
   "cell_type": "code",
   "execution_count": 11,
   "metadata": {
    "id": "C9VrTEMfNnNV"
   },
   "outputs": [
    {
     "name": "stdout",
     "output_type": "stream",
     "text": [
      "[[ 0.03914446  0.09942693  0.99426926  0.00326203]\n",
      " [ 0.3957563  -0.91505289  0.07586757  0.01729958]\n",
      " [ 0.91614764  0.39087602 -0.07531091  0.04709258]\n",
      " [-0.05018133 -0.00290533 -0.0010105   0.99873539]]\n"
     ]
    }
   ],
   "source": [
    "print(VT)"
   ]
  },
  {
   "cell_type": "markdown",
   "metadata": {
    "id": "7Td2Rn1CPalJ"
   },
   "source": [
    "- (Optional): Can you explain your result?"
   ]
  },
  {
   "cell_type": "markdown",
   "metadata": {
    "id": "rZ7GM7YOQr-o"
   },
   "source": [
    "(Put answer here)"
   ]
  },
  {
   "cell_type": "code",
   "execution_count": null,
   "metadata": {
    "id": "lW8fS-TnN9gM"
   },
   "outputs": [],
   "source": []
  }
 ],
 "metadata": {
  "colab": {
   "collapsed_sections": [],
   "provenance": []
  },
  "kernelspec": {
   "display_name": "Python 3 (ipykernel)",
   "language": "python",
   "name": "python3"
  },
  "language_info": {
   "codemirror_mode": {
    "name": "ipython",
    "version": 3
   },
   "file_extension": ".py",
   "mimetype": "text/x-python",
   "name": "python",
   "nbconvert_exporter": "python",
   "pygments_lexer": "ipython3",
   "version": "3.9.7"
  }
 },
 "nbformat": 4,
 "nbformat_minor": 4
}
